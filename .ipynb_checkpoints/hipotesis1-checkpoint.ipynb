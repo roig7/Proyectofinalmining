{
 "cells": [
  {
   "cell_type": "code",
   "execution_count": 1,
   "metadata": {},
   "outputs": [],
   "source": [
    "#importaciones de las librerias\n",
    "import pandas as pd\n",
    "import numpy as np\n",
    "import sklearn \n",
    "import matplotlib.pyplot as pl\n",
    "from typing import Dict, Tuple\n",
    "from sklearn.base import BaseEstimator\n",
    "from sklearn.impute import SimpleImputer\n",
    "\n",
    "\n",
    "from sklearn.model_selection import cross_val_score\n",
    "from sklearn.model_selection import train_test_split\n",
    "import scikitplot as skplt\n",
    "from sklearn.tree import DecisionTreeClassifier\n",
    "from sklearn.model_selection import KFold\n",
    "from sklearn.metrics import confusion_matrix\n",
    "from sklearn import tree\n",
    "from sklearn.tree import _tree\n",
    "pl.style.use('ggplot')"
   ]
  },
  {
   "cell_type": "markdown",
   "metadata": {},
   "source": [
    "La primera hipotesis es que a mas torres tiradas mas ganas"
   ]
  },
  {
   "cell_type": "code",
   "execution_count": 2,
   "metadata": {},
   "outputs": [
    {
     "data": {
      "text/html": [
       "<div>\n",
       "<style scoped>\n",
       "    .dataframe tbody tr th:only-of-type {\n",
       "        vertical-align: middle;\n",
       "    }\n",
       "\n",
       "    .dataframe tbody tr th {\n",
       "        vertical-align: top;\n",
       "    }\n",
       "\n",
       "    .dataframe thead th {\n",
       "        text-align: right;\n",
       "    }\n",
       "</style>\n",
       "<table border=\"1\" class=\"dataframe\">\n",
       "  <thead>\n",
       "    <tr style=\"text-align: right;\">\n",
       "      <th></th>\n",
       "      <th>League</th>\n",
       "      <th>Year</th>\n",
       "      <th>Season</th>\n",
       "      <th>Type</th>\n",
       "      <th>blueTeamTag</th>\n",
       "      <th>bResult</th>\n",
       "      <th>rResult</th>\n",
       "      <th>redTeamTag</th>\n",
       "      <th>gamelength</th>\n",
       "      <th>golddiff</th>\n",
       "      <th>...</th>\n",
       "      <th>redMiddleChamp</th>\n",
       "      <th>goldredMiddle</th>\n",
       "      <th>redADC</th>\n",
       "      <th>redADCChamp</th>\n",
       "      <th>goldredADC</th>\n",
       "      <th>redSupport</th>\n",
       "      <th>redSupportChamp</th>\n",
       "      <th>goldredSupport</th>\n",
       "      <th>redBans</th>\n",
       "      <th>Address</th>\n",
       "    </tr>\n",
       "  </thead>\n",
       "  <tbody>\n",
       "    <tr>\n",
       "      <th>0</th>\n",
       "      <td>NALCS</td>\n",
       "      <td>2015</td>\n",
       "      <td>Spring</td>\n",
       "      <td>Season</td>\n",
       "      <td>TSM</td>\n",
       "      <td>1</td>\n",
       "      <td>0</td>\n",
       "      <td>C9</td>\n",
       "      <td>40</td>\n",
       "      <td>[0, 0, -14, -65, -268, -431, -488, -789, -494,...</td>\n",
       "      <td>...</td>\n",
       "      <td>Fizz</td>\n",
       "      <td>[475, 475, 552, 842, 1178, 1378, 1635, 1949, 2...</td>\n",
       "      <td>Sneaky</td>\n",
       "      <td>Sivir</td>\n",
       "      <td>[475, 475, 532, 762, 1097, 1469, 1726, 2112, 2...</td>\n",
       "      <td>LemonNation</td>\n",
       "      <td>Thresh</td>\n",
       "      <td>[515, 515, 577, 722, 911, 1042, 1194, 1370, 14...</td>\n",
       "      <td>['Tristana', 'Leblanc', 'Nidalee']</td>\n",
       "      <td>http://matchhistory.na.leagueoflegends.com/en/...</td>\n",
       "    </tr>\n",
       "    <tr>\n",
       "      <th>1</th>\n",
       "      <td>NALCS</td>\n",
       "      <td>2015</td>\n",
       "      <td>Spring</td>\n",
       "      <td>Season</td>\n",
       "      <td>CST</td>\n",
       "      <td>0</td>\n",
       "      <td>1</td>\n",
       "      <td>DIG</td>\n",
       "      <td>38</td>\n",
       "      <td>[0, 0, -26, -18, 147, 237, -152, 18, 88, -242,...</td>\n",
       "      <td>...</td>\n",
       "      <td>Azir</td>\n",
       "      <td>[475, 475, 552, 786, 1097, 1389, 1660, 1955, 2...</td>\n",
       "      <td>CoreJJ</td>\n",
       "      <td>Corki</td>\n",
       "      <td>[475, 475, 532, 868, 1220, 1445, 1732, 1979, 2...</td>\n",
       "      <td>KiWiKiD</td>\n",
       "      <td>Annie</td>\n",
       "      <td>[515, 515, 583, 752, 900, 1066, 1236, 1417, 15...</td>\n",
       "      <td>['RekSai', 'Janna', 'Leblanc']</td>\n",
       "      <td>http://matchhistory.na.leagueoflegends.com/en/...</td>\n",
       "    </tr>\n",
       "    <tr>\n",
       "      <th>2</th>\n",
       "      <td>NALCS</td>\n",
       "      <td>2015</td>\n",
       "      <td>Spring</td>\n",
       "      <td>Season</td>\n",
       "      <td>WFX</td>\n",
       "      <td>1</td>\n",
       "      <td>0</td>\n",
       "      <td>GV</td>\n",
       "      <td>40</td>\n",
       "      <td>[0, 0, 10, -60, 34, 37, 589, 1064, 1258, 913, ...</td>\n",
       "      <td>...</td>\n",
       "      <td>Azir</td>\n",
       "      <td>[475, 475, 533, 801, 1006, 1233, 1385, 1720, 1...</td>\n",
       "      <td>Cop</td>\n",
       "      <td>Corki</td>\n",
       "      <td>[475, 475, 533, 781, 1085, 1398, 1782, 1957, 2...</td>\n",
       "      <td>BunnyFuFuu</td>\n",
       "      <td>Janna</td>\n",
       "      <td>[515, 515, 584, 721, 858, 1002, 1168, 1303, 14...</td>\n",
       "      <td>['Leblanc', 'Zed', 'RekSai']</td>\n",
       "      <td>http://matchhistory.na.leagueoflegends.com/en/...</td>\n",
       "    </tr>\n",
       "    <tr>\n",
       "      <th>3</th>\n",
       "      <td>NALCS</td>\n",
       "      <td>2015</td>\n",
       "      <td>Spring</td>\n",
       "      <td>Season</td>\n",
       "      <td>TIP</td>\n",
       "      <td>0</td>\n",
       "      <td>1</td>\n",
       "      <td>TL</td>\n",
       "      <td>41</td>\n",
       "      <td>[0, 0, -15, 25, 228, -6, -243, 175, -346, 16, ...</td>\n",
       "      <td>...</td>\n",
       "      <td>Lulu</td>\n",
       "      <td>[475, 475, 532, 771, 1046, 1288, 1534, 1776, 2...</td>\n",
       "      <td>KEITH</td>\n",
       "      <td>KogMaw</td>\n",
       "      <td>[475, 475, 532, 766, 1161, 1438, 1776, 1936, 2...</td>\n",
       "      <td>Xpecial</td>\n",
       "      <td>Janna</td>\n",
       "      <td>[515, 515, 583, 721, 870, 1059, 1205, 1342, 15...</td>\n",
       "      <td>['RekSai', 'Rumble', 'LeeSin']</td>\n",
       "      <td>http://matchhistory.na.leagueoflegends.com/en/...</td>\n",
       "    </tr>\n",
       "    <tr>\n",
       "      <th>4</th>\n",
       "      <td>NALCS</td>\n",
       "      <td>2015</td>\n",
       "      <td>Spring</td>\n",
       "      <td>Season</td>\n",
       "      <td>CLG</td>\n",
       "      <td>1</td>\n",
       "      <td>0</td>\n",
       "      <td>T8</td>\n",
       "      <td>35</td>\n",
       "      <td>[40, 40, 44, -36, 113, 158, -121, -191, 23, 20...</td>\n",
       "      <td>...</td>\n",
       "      <td>Lulu</td>\n",
       "      <td>[475, 475, 532, 807, 1042, 1338, 1646, 1951, 2...</td>\n",
       "      <td>Maplestreet8</td>\n",
       "      <td>Corki</td>\n",
       "      <td>[475, 475, 532, 792, 1187, 1488, 1832, 2136, 2...</td>\n",
       "      <td>Dodo8</td>\n",
       "      <td>Annie</td>\n",
       "      <td>[475, 475, 538, 671, 817, 948, 1104, 1240, 136...</td>\n",
       "      <td>['Rumble', 'Sivir', 'Rengar']</td>\n",
       "      <td>http://matchhistory.na.leagueoflegends.com/en/...</td>\n",
       "    </tr>\n",
       "    <tr>\n",
       "      <th>...</th>\n",
       "      <td>...</td>\n",
       "      <td>...</td>\n",
       "      <td>...</td>\n",
       "      <td>...</td>\n",
       "      <td>...</td>\n",
       "      <td>...</td>\n",
       "      <td>...</td>\n",
       "      <td>...</td>\n",
       "      <td>...</td>\n",
       "      <td>...</td>\n",
       "      <td>...</td>\n",
       "      <td>...</td>\n",
       "      <td>...</td>\n",
       "      <td>...</td>\n",
       "      <td>...</td>\n",
       "      <td>...</td>\n",
       "      <td>...</td>\n",
       "      <td>...</td>\n",
       "      <td>...</td>\n",
       "      <td>...</td>\n",
       "      <td>...</td>\n",
       "    </tr>\n",
       "    <tr>\n",
       "      <th>7615</th>\n",
       "      <td>TCL</td>\n",
       "      <td>2018</td>\n",
       "      <td>Spring</td>\n",
       "      <td>Season</td>\n",
       "      <td>YC</td>\n",
       "      <td>0</td>\n",
       "      <td>1</td>\n",
       "      <td>SUP</td>\n",
       "      <td>34</td>\n",
       "      <td>[0, 0, -18, -95, 45, -87, -117, 199, 126, 92, ...</td>\n",
       "      <td>...</td>\n",
       "      <td>Veigar</td>\n",
       "      <td>[500, 500, 632, 982, 1258, 1667, 2060, 2390, 2...</td>\n",
       "      <td>Zeitnot</td>\n",
       "      <td>Xayah</td>\n",
       "      <td>[500, 500, 564, 1027, 1320, 1727, 1963, 2276, ...</td>\n",
       "      <td>SnowFlower</td>\n",
       "      <td>Rakan</td>\n",
       "      <td>[500, 500, 566, 801, 1004, 1234, 1463, 1674, 1...</td>\n",
       "      <td>['Ornn', 'Kalista', 'Ryze', 'Alistar', 'Shen']</td>\n",
       "      <td>https://matchhistory.euw.leagueoflegends.com/e...</td>\n",
       "    </tr>\n",
       "    <tr>\n",
       "      <th>7616</th>\n",
       "      <td>TCL</td>\n",
       "      <td>2018</td>\n",
       "      <td>Spring</td>\n",
       "      <td>Season</td>\n",
       "      <td>GAL</td>\n",
       "      <td>0</td>\n",
       "      <td>1</td>\n",
       "      <td>DP</td>\n",
       "      <td>39</td>\n",
       "      <td>[0, 0, -86, -39, -207, -349, -60, -140, 187, -...</td>\n",
       "      <td>...</td>\n",
       "      <td>Ryze</td>\n",
       "      <td>[500, 500, 612, 1000, 1193, 1626, 1979, 2318, ...</td>\n",
       "      <td>Ruvelius</td>\n",
       "      <td>Caitlyn</td>\n",
       "      <td>[500, 500, 621, 977, 1420, 1809, 2047, 2413, 2...</td>\n",
       "      <td>Japone</td>\n",
       "      <td>Braum</td>\n",
       "      <td>[500, 500, 587, 790, 1107, 1335, 1472, 1616, 1...</td>\n",
       "      <td>['Zoe', 'KogMaw', 'JarvanIV', 'Ornn', 'Rengar']</td>\n",
       "      <td>https://matchhistory.euw.leagueoflegends.com/e...</td>\n",
       "    </tr>\n",
       "    <tr>\n",
       "      <th>7617</th>\n",
       "      <td>OPL</td>\n",
       "      <td>2018</td>\n",
       "      <td>Spring</td>\n",
       "      <td>Season</td>\n",
       "      <td>SIN</td>\n",
       "      <td>0</td>\n",
       "      <td>1</td>\n",
       "      <td>DW</td>\n",
       "      <td>24</td>\n",
       "      <td>[0, -8, -6, 116, 103, -92, -470, -958, -1998, ...</td>\n",
       "      <td>...</td>\n",
       "      <td>Malzahar</td>\n",
       "      <td>[500, 500, 615, 903, 1225, 1617, 1976, 2304, 2...</td>\n",
       "      <td>k1ng</td>\n",
       "      <td>Ezreal</td>\n",
       "      <td>[500, 508, 592, 986, 1400, 1753, 2196, 2538, 3...</td>\n",
       "      <td>Cupcake</td>\n",
       "      <td>Taric</td>\n",
       "      <td>[500, 500, 585, 770, 976, 1222, 1446, 1627, 19...</td>\n",
       "      <td>['Azir', 'Kalista', 'Braum', 'Maokai', 'Alistar']</td>\n",
       "      <td>https://matchhistory.na.leagueoflegends.com/en...</td>\n",
       "    </tr>\n",
       "    <tr>\n",
       "      <th>7618</th>\n",
       "      <td>OPL</td>\n",
       "      <td>2018</td>\n",
       "      <td>Spring</td>\n",
       "      <td>Season</td>\n",
       "      <td>LGC</td>\n",
       "      <td>1</td>\n",
       "      <td>0</td>\n",
       "      <td>TTC</td>\n",
       "      <td>35</td>\n",
       "      <td>[0, 0, -97, 33, 351, 284, 299, 263, 403, 623, ...</td>\n",
       "      <td>...</td>\n",
       "      <td>Veigar</td>\n",
       "      <td>[500, 500, 561, 931, 1223, 1631, 1987, 2315, 2...</td>\n",
       "      <td>Low</td>\n",
       "      <td>Sivir</td>\n",
       "      <td>[500, 500, 634, 930, 1304, 1691, 2042, 2384, 2...</td>\n",
       "      <td>Tilting</td>\n",
       "      <td>Janna</td>\n",
       "      <td>[500, 500, 592, 788, 1006, 1251, 1490, 1704, 1...</td>\n",
       "      <td>['Kalista', 'Galio', 'Gnar', 'Jayce', 'Sejuani']</td>\n",
       "      <td>https://matchhistory.na.leagueoflegends.com/en...</td>\n",
       "    </tr>\n",
       "    <tr>\n",
       "      <th>7619</th>\n",
       "      <td>OPL</td>\n",
       "      <td>2018</td>\n",
       "      <td>Spring</td>\n",
       "      <td>Season</td>\n",
       "      <td>TTC</td>\n",
       "      <td>0</td>\n",
       "      <td>1</td>\n",
       "      <td>LGC</td>\n",
       "      <td>42</td>\n",
       "      <td>[0, 0, -8, -225, -36, 73, 464, 184, 1171, 1409...</td>\n",
       "      <td>...</td>\n",
       "      <td>Malzahar</td>\n",
       "      <td>[500, 500, 598, 968, 1165, 1477, 1801, 2016, 2...</td>\n",
       "      <td>Raid</td>\n",
       "      <td>Vayne</td>\n",
       "      <td>[500, 500, 587, 954, 1327, 1749, 2007, 2471, 2...</td>\n",
       "      <td>Decoy</td>\n",
       "      <td>Braum</td>\n",
       "      <td>[500, 500, 585, 793, 998, 1201, 1373, 1619, 18...</td>\n",
       "      <td>['KogMaw', 'Illaoi', 'Azir', 'Karma', 'Sejuani']</td>\n",
       "      <td>https://matchhistory.na.leagueoflegends.com/en...</td>\n",
       "    </tr>\n",
       "  </tbody>\n",
       "</table>\n",
       "<p>7620 rows × 57 columns</p>\n",
       "</div>"
      ],
      "text/plain": [
       "     League  Year  Season    Type blueTeamTag  bResult  rResult redTeamTag  \\\n",
       "0     NALCS  2015  Spring  Season         TSM        1        0         C9   \n",
       "1     NALCS  2015  Spring  Season         CST        0        1        DIG   \n",
       "2     NALCS  2015  Spring  Season         WFX        1        0         GV   \n",
       "3     NALCS  2015  Spring  Season         TIP        0        1         TL   \n",
       "4     NALCS  2015  Spring  Season         CLG        1        0         T8   \n",
       "...     ...   ...     ...     ...         ...      ...      ...        ...   \n",
       "7615    TCL  2018  Spring  Season          YC        0        1        SUP   \n",
       "7616    TCL  2018  Spring  Season         GAL        0        1         DP   \n",
       "7617    OPL  2018  Spring  Season         SIN        0        1         DW   \n",
       "7618    OPL  2018  Spring  Season         LGC        1        0        TTC   \n",
       "7619    OPL  2018  Spring  Season         TTC        0        1        LGC   \n",
       "\n",
       "      gamelength                                           golddiff  ...  \\\n",
       "0             40  [0, 0, -14, -65, -268, -431, -488, -789, -494,...  ...   \n",
       "1             38  [0, 0, -26, -18, 147, 237, -152, 18, 88, -242,...  ...   \n",
       "2             40  [0, 0, 10, -60, 34, 37, 589, 1064, 1258, 913, ...  ...   \n",
       "3             41  [0, 0, -15, 25, 228, -6, -243, 175, -346, 16, ...  ...   \n",
       "4             35  [40, 40, 44, -36, 113, 158, -121, -191, 23, 20...  ...   \n",
       "...          ...                                                ...  ...   \n",
       "7615          34  [0, 0, -18, -95, 45, -87, -117, 199, 126, 92, ...  ...   \n",
       "7616          39  [0, 0, -86, -39, -207, -349, -60, -140, 187, -...  ...   \n",
       "7617          24  [0, -8, -6, 116, 103, -92, -470, -958, -1998, ...  ...   \n",
       "7618          35  [0, 0, -97, 33, 351, 284, 299, 263, 403, 623, ...  ...   \n",
       "7619          42  [0, 0, -8, -225, -36, 73, 464, 184, 1171, 1409...  ...   \n",
       "\n",
       "     redMiddleChamp                                      goldredMiddle  \\\n",
       "0              Fizz  [475, 475, 552, 842, 1178, 1378, 1635, 1949, 2...   \n",
       "1              Azir  [475, 475, 552, 786, 1097, 1389, 1660, 1955, 2...   \n",
       "2              Azir  [475, 475, 533, 801, 1006, 1233, 1385, 1720, 1...   \n",
       "3              Lulu  [475, 475, 532, 771, 1046, 1288, 1534, 1776, 2...   \n",
       "4              Lulu  [475, 475, 532, 807, 1042, 1338, 1646, 1951, 2...   \n",
       "...             ...                                                ...   \n",
       "7615         Veigar  [500, 500, 632, 982, 1258, 1667, 2060, 2390, 2...   \n",
       "7616           Ryze  [500, 500, 612, 1000, 1193, 1626, 1979, 2318, ...   \n",
       "7617       Malzahar  [500, 500, 615, 903, 1225, 1617, 1976, 2304, 2...   \n",
       "7618         Veigar  [500, 500, 561, 931, 1223, 1631, 1987, 2315, 2...   \n",
       "7619       Malzahar  [500, 500, 598, 968, 1165, 1477, 1801, 2016, 2...   \n",
       "\n",
       "            redADC redADCChamp  \\\n",
       "0           Sneaky       Sivir   \n",
       "1           CoreJJ       Corki   \n",
       "2              Cop       Corki   \n",
       "3            KEITH      KogMaw   \n",
       "4     Maplestreet8       Corki   \n",
       "...            ...         ...   \n",
       "7615       Zeitnot       Xayah   \n",
       "7616      Ruvelius     Caitlyn   \n",
       "7617          k1ng      Ezreal   \n",
       "7618           Low       Sivir   \n",
       "7619          Raid       Vayne   \n",
       "\n",
       "                                             goldredADC   redSupport  \\\n",
       "0     [475, 475, 532, 762, 1097, 1469, 1726, 2112, 2...  LemonNation   \n",
       "1     [475, 475, 532, 868, 1220, 1445, 1732, 1979, 2...      KiWiKiD   \n",
       "2     [475, 475, 533, 781, 1085, 1398, 1782, 1957, 2...   BunnyFuFuu   \n",
       "3     [475, 475, 532, 766, 1161, 1438, 1776, 1936, 2...      Xpecial   \n",
       "4     [475, 475, 532, 792, 1187, 1488, 1832, 2136, 2...        Dodo8   \n",
       "...                                                 ...          ...   \n",
       "7615  [500, 500, 564, 1027, 1320, 1727, 1963, 2276, ...   SnowFlower   \n",
       "7616  [500, 500, 621, 977, 1420, 1809, 2047, 2413, 2...       Japone   \n",
       "7617  [500, 508, 592, 986, 1400, 1753, 2196, 2538, 3...      Cupcake   \n",
       "7618  [500, 500, 634, 930, 1304, 1691, 2042, 2384, 2...      Tilting   \n",
       "7619  [500, 500, 587, 954, 1327, 1749, 2007, 2471, 2...        Decoy   \n",
       "\n",
       "     redSupportChamp                                     goldredSupport  \\\n",
       "0             Thresh  [515, 515, 577, 722, 911, 1042, 1194, 1370, 14...   \n",
       "1              Annie  [515, 515, 583, 752, 900, 1066, 1236, 1417, 15...   \n",
       "2              Janna  [515, 515, 584, 721, 858, 1002, 1168, 1303, 14...   \n",
       "3              Janna  [515, 515, 583, 721, 870, 1059, 1205, 1342, 15...   \n",
       "4              Annie  [475, 475, 538, 671, 817, 948, 1104, 1240, 136...   \n",
       "...              ...                                                ...   \n",
       "7615           Rakan  [500, 500, 566, 801, 1004, 1234, 1463, 1674, 1...   \n",
       "7616           Braum  [500, 500, 587, 790, 1107, 1335, 1472, 1616, 1...   \n",
       "7617           Taric  [500, 500, 585, 770, 976, 1222, 1446, 1627, 19...   \n",
       "7618           Janna  [500, 500, 592, 788, 1006, 1251, 1490, 1704, 1...   \n",
       "7619           Braum  [500, 500, 585, 793, 998, 1201, 1373, 1619, 18...   \n",
       "\n",
       "                                                redBans  \\\n",
       "0                    ['Tristana', 'Leblanc', 'Nidalee']   \n",
       "1                        ['RekSai', 'Janna', 'Leblanc']   \n",
       "2                          ['Leblanc', 'Zed', 'RekSai']   \n",
       "3                        ['RekSai', 'Rumble', 'LeeSin']   \n",
       "4                         ['Rumble', 'Sivir', 'Rengar']   \n",
       "...                                                 ...   \n",
       "7615     ['Ornn', 'Kalista', 'Ryze', 'Alistar', 'Shen']   \n",
       "7616    ['Zoe', 'KogMaw', 'JarvanIV', 'Ornn', 'Rengar']   \n",
       "7617  ['Azir', 'Kalista', 'Braum', 'Maokai', 'Alistar']   \n",
       "7618   ['Kalista', 'Galio', 'Gnar', 'Jayce', 'Sejuani']   \n",
       "7619   ['KogMaw', 'Illaoi', 'Azir', 'Karma', 'Sejuani']   \n",
       "\n",
       "                                                Address  \n",
       "0     http://matchhistory.na.leagueoflegends.com/en/...  \n",
       "1     http://matchhistory.na.leagueoflegends.com/en/...  \n",
       "2     http://matchhistory.na.leagueoflegends.com/en/...  \n",
       "3     http://matchhistory.na.leagueoflegends.com/en/...  \n",
       "4     http://matchhistory.na.leagueoflegends.com/en/...  \n",
       "...                                                 ...  \n",
       "7615  https://matchhistory.euw.leagueoflegends.com/e...  \n",
       "7616  https://matchhistory.euw.leagueoflegends.com/e...  \n",
       "7617  https://matchhistory.na.leagueoflegends.com/en...  \n",
       "7618  https://matchhistory.na.leagueoflegends.com/en...  \n",
       "7619  https://matchhistory.na.leagueoflegends.com/en...  \n",
       "\n",
       "[7620 rows x 57 columns]"
      ]
     },
     "execution_count": 2,
     "metadata": {},
     "output_type": "execute_result"
    }
   ],
   "source": [
    "data=pd.read_csv(\"leagueoflegends.csv\")#Leemos el fichero csv\n",
    "data"
   ]
  },
  {
   "cell_type": "code",
   "execution_count": 3,
   "metadata": {},
   "outputs": [
    {
     "data": {
      "text/plain": [
       "Index(['League', 'Year', 'Season', 'Type', 'blueTeamTag', 'bResult', 'rResult',\n",
       "       'redTeamTag', 'gamelength', 'golddiff', 'goldblue', 'bKills', 'bTowers',\n",
       "       'bInhibs', 'bDragons', 'bBarons', 'bHeralds', 'goldred', 'rKills',\n",
       "       'rTowers', 'rInhibs', 'rDragons', 'rBarons', 'rHeralds', 'blueTop',\n",
       "       'blueTopChamp', 'goldblueTop', 'blueJungle', 'blueJungleChamp',\n",
       "       'goldblueJungle', 'blueMiddle', 'blueMiddleChamp', 'goldblueMiddle',\n",
       "       'blueADC', 'blueADCChamp', 'goldblueADC', 'blueSupport',\n",
       "       'blueSupportChamp', 'goldblueSupport', 'blueBans', 'redTop',\n",
       "       'redTopChamp', 'goldredTop', 'redJungle', 'redJungleChamp',\n",
       "       'goldredJungle', 'redMiddle', 'redMiddleChamp', 'goldredMiddle',\n",
       "       'redADC', 'redADCChamp', 'goldredADC', 'redSupport', 'redSupportChamp',\n",
       "       'goldredSupport', 'redBans', 'Address'],\n",
       "      dtype='object')"
      ]
     },
     "execution_count": 3,
     "metadata": {},
     "output_type": "execute_result"
    }
   ],
   "source": [
    "data.columns"
   ]
  },
  {
   "cell_type": "markdown",
   "metadata": {},
   "source": [
    "# Preprocesamiento del dataframe"
   ]
  },
  {
   "cell_type": "code",
   "execution_count": 4,
   "metadata": {},
   "outputs": [
    {
     "data": {
      "text/html": [
       "<div>\n",
       "<style scoped>\n",
       "    .dataframe tbody tr th:only-of-type {\n",
       "        vertical-align: middle;\n",
       "    }\n",
       "\n",
       "    .dataframe tbody tr th {\n",
       "        vertical-align: top;\n",
       "    }\n",
       "\n",
       "    .dataframe thead th {\n",
       "        text-align: right;\n",
       "    }\n",
       "</style>\n",
       "<table border=\"1\" class=\"dataframe\">\n",
       "  <thead>\n",
       "    <tr style=\"text-align: right;\">\n",
       "      <th></th>\n",
       "      <th>bTowers</th>\n",
       "      <th>rTowers</th>\n",
       "      <th>bResult</th>\n",
       "    </tr>\n",
       "  </thead>\n",
       "  <tbody>\n",
       "    <tr>\n",
       "      <th>0</th>\n",
       "      <td>[[27.542, 'MID_LANE', 'BASE_TURRET'], [39.269,...</td>\n",
       "      <td>[[39.23, 'TOP_LANE', 'INNER_TURRET'], [20.681,...</td>\n",
       "      <td>1</td>\n",
       "    </tr>\n",
       "    <tr>\n",
       "      <th>1</th>\n",
       "      <td>[[23.239, 'BOT_LANE', 'OUTER_TURRET'], [33.018...</td>\n",
       "      <td>[[19.257, 'MID_LANE', 'OUTER_TURRET'], [15.206...</td>\n",
       "      <td>0</td>\n",
       "    </tr>\n",
       "    <tr>\n",
       "      <th>2</th>\n",
       "      <td>[[15.045, 'BOT_LANE', 'OUTER_TURRET'], [39.566...</td>\n",
       "      <td>[[24.62, 'MID_LANE', 'OUTER_TURRET'], [30.493,...</td>\n",
       "      <td>1</td>\n",
       "    </tr>\n",
       "    <tr>\n",
       "      <th>3</th>\n",
       "      <td>[[19.941, 'BOT_LANE', 'OUTER_TURRET'], [38.77,...</td>\n",
       "      <td>[[36.384, 'MID_LANE', 'NEXUS_TURRET'], [31.665...</td>\n",
       "      <td>0</td>\n",
       "    </tr>\n",
       "    <tr>\n",
       "      <th>4</th>\n",
       "      <td>[[22.594, 'MID_LANE', 'OUTER_TURRET'], [34.213...</td>\n",
       "      <td>[[11.644, 'MID_LANE', 'OUTER_TURRET'], [12.438...</td>\n",
       "      <td>1</td>\n",
       "    </tr>\n",
       "    <tr>\n",
       "      <th>...</th>\n",
       "      <td>...</td>\n",
       "      <td>...</td>\n",
       "      <td>...</td>\n",
       "    </tr>\n",
       "    <tr>\n",
       "      <th>7615</th>\n",
       "      <td>[[12.448, 'BOT_LANE', 'OUTER_TURRET'], [27.646...</td>\n",
       "      <td>[[25.005, 'TOP_LANE', 'OUTER_TURRET'], [18.149...</td>\n",
       "      <td>0</td>\n",
       "    </tr>\n",
       "    <tr>\n",
       "      <th>7616</th>\n",
       "      <td>[[23.085, 'BOT_LANE', 'INNER_TURRET'], [17.368...</td>\n",
       "      <td>[[38.311, 'MID_LANE', 'NEXUS_TURRET'], [10.572...</td>\n",
       "      <td>0</td>\n",
       "    </tr>\n",
       "    <tr>\n",
       "      <th>7617</th>\n",
       "      <td>[]</td>\n",
       "      <td>[[22.854, 'TOP_LANE', 'BASE_TURRET'], [23.285,...</td>\n",
       "      <td>0</td>\n",
       "    </tr>\n",
       "    <tr>\n",
       "      <th>7618</th>\n",
       "      <td>[[22.043, 'TOP_LANE', 'OUTER_TURRET'], [24.727...</td>\n",
       "      <td>[[32.793, 'BOT_LANE', 'INNER_TURRET'], [22.866...</td>\n",
       "      <td>1</td>\n",
       "    </tr>\n",
       "    <tr>\n",
       "      <th>7619</th>\n",
       "      <td>[[18.042, 'BOT_LANE', 'OUTER_TURRET'], [13.644...</td>\n",
       "      <td>[[32.298, 'MID_LANE', 'INNER_TURRET'], [40.779...</td>\n",
       "      <td>0</td>\n",
       "    </tr>\n",
       "  </tbody>\n",
       "</table>\n",
       "<p>7620 rows × 3 columns</p>\n",
       "</div>"
      ],
      "text/plain": [
       "                                                bTowers  \\\n",
       "0     [[27.542, 'MID_LANE', 'BASE_TURRET'], [39.269,...   \n",
       "1     [[23.239, 'BOT_LANE', 'OUTER_TURRET'], [33.018...   \n",
       "2     [[15.045, 'BOT_LANE', 'OUTER_TURRET'], [39.566...   \n",
       "3     [[19.941, 'BOT_LANE', 'OUTER_TURRET'], [38.77,...   \n",
       "4     [[22.594, 'MID_LANE', 'OUTER_TURRET'], [34.213...   \n",
       "...                                                 ...   \n",
       "7615  [[12.448, 'BOT_LANE', 'OUTER_TURRET'], [27.646...   \n",
       "7616  [[23.085, 'BOT_LANE', 'INNER_TURRET'], [17.368...   \n",
       "7617                                                 []   \n",
       "7618  [[22.043, 'TOP_LANE', 'OUTER_TURRET'], [24.727...   \n",
       "7619  [[18.042, 'BOT_LANE', 'OUTER_TURRET'], [13.644...   \n",
       "\n",
       "                                                rTowers  bResult  \n",
       "0     [[39.23, 'TOP_LANE', 'INNER_TURRET'], [20.681,...        1  \n",
       "1     [[19.257, 'MID_LANE', 'OUTER_TURRET'], [15.206...        0  \n",
       "2     [[24.62, 'MID_LANE', 'OUTER_TURRET'], [30.493,...        1  \n",
       "3     [[36.384, 'MID_LANE', 'NEXUS_TURRET'], [31.665...        0  \n",
       "4     [[11.644, 'MID_LANE', 'OUTER_TURRET'], [12.438...        1  \n",
       "...                                                 ...      ...  \n",
       "7615  [[25.005, 'TOP_LANE', 'OUTER_TURRET'], [18.149...        0  \n",
       "7616  [[38.311, 'MID_LANE', 'NEXUS_TURRET'], [10.572...        0  \n",
       "7617  [[22.854, 'TOP_LANE', 'BASE_TURRET'], [23.285,...        0  \n",
       "7618  [[32.793, 'BOT_LANE', 'INNER_TURRET'], [22.866...        1  \n",
       "7619  [[32.298, 'MID_LANE', 'INNER_TURRET'], [40.779...        0  \n",
       "\n",
       "[7620 rows x 3 columns]"
      ]
     },
     "execution_count": 4,
     "metadata": {},
     "output_type": "execute_result"
    }
   ],
   "source": [
    "#Como la hipotesis es que a mas torres mas ganas, solo hace falta coger la columna que hace referencia al \n",
    "#resultado de uno de los equipos ya que si gana uno, el otro pierde.\n",
    "datatorres=data[['bTowers','rTowers','bResult']]\n",
    "datatorres"
   ]
  },
  {
   "cell_type": "markdown",
   "metadata": {},
   "source": [
    "## Missing values"
   ]
  },
  {
   "cell_type": "code",
   "execution_count": 5,
   "metadata": {},
   "outputs": [
    {
     "name": "stdout",
     "output_type": "stream",
     "text": [
      "<class 'pandas.core.frame.DataFrame'>\n",
      "RangeIndex: 7620 entries, 0 to 7619\n",
      "Data columns (total 3 columns):\n",
      " #   Column   Non-Null Count  Dtype \n",
      "---  ------   --------------  ----- \n",
      " 0   bTowers  7620 non-null   object\n",
      " 1   rTowers  7620 non-null   object\n",
      " 2   bResult  7620 non-null   int64 \n",
      "dtypes: int64(1), object(2)\n",
      "memory usage: 178.7+ KB\n"
     ]
    }
   ],
   "source": [
    "datatorres.info()#Como podemos ver aparentemenet no hay missing values pero si pueden haber arrays vacios que es lo mismo"
   ]
  },
  {
   "cell_type": "code",
   "execution_count": 6,
   "metadata": {},
   "outputs": [
    {
     "name": "stdout",
     "output_type": "stream",
     "text": [
      "Missing values bTowers: 248\n",
      "Missing values rTowers: 476\n"
     ]
    }
   ],
   "source": [
    "#Missing values que en este caso son arrays vacios pero son strings\n",
    "#Los missing values estan representados por '[]'\n",
    "flagb=0\n",
    "flagr=0\n",
    "for i in range(0,len(datatorres.index)):\n",
    "    if(datatorres.bTowers[i]=='[]'):\n",
    "        flagb=flagb+1\n",
    "    if(datatorres.rTowers[i]=='[]'):\n",
    "        flagr=flagr+1\n",
    "print(\"Missing values bTowers: \"+str(flagb))\n",
    "print(\"Missing values rTowers: \"+str(flagr))"
   ]
  },
  {
   "cell_type": "code",
   "execution_count": 7,
   "metadata": {},
   "outputs": [
    {
     "name": "stdout",
     "output_type": "stream",
     "text": [
      "El porcentaje de missing values de la columna bTowers es: 3.254593175853018%\n",
      "El porcentaje de missing values de la columna rTowers es: 6.246719160104987%\n"
     ]
    }
   ],
   "source": [
    "#Porcentaje missing values respecto al total de datos\n",
    "print('El porcentaje de missing values de la columna bTowers es: '+str(flagb/len(datatorres.index)*100)+'%')\n",
    "print('El porcentaje de missing values de la columna rTowers es: '+str(flagr/len(datatorres.index)*100)+'%')"
   ]
  },
  {
   "cell_type": "markdown",
   "metadata": {},
   "source": [
    "Como es un porcentaje muy bajo de los datos hemos decidido eliminarlos"
   ]
  },
  {
   "cell_type": "code",
   "execution_count": 8,
   "metadata": {},
   "outputs": [
    {
     "data": {
      "text/html": [
       "<div>\n",
       "<style scoped>\n",
       "    .dataframe tbody tr th:only-of-type {\n",
       "        vertical-align: middle;\n",
       "    }\n",
       "\n",
       "    .dataframe tbody tr th {\n",
       "        vertical-align: top;\n",
       "    }\n",
       "\n",
       "    .dataframe thead th {\n",
       "        text-align: right;\n",
       "    }\n",
       "</style>\n",
       "<table border=\"1\" class=\"dataframe\">\n",
       "  <thead>\n",
       "    <tr style=\"text-align: right;\">\n",
       "      <th></th>\n",
       "      <th>bTowers</th>\n",
       "      <th>rTowers</th>\n",
       "      <th>bResult</th>\n",
       "    </tr>\n",
       "  </thead>\n",
       "  <tbody>\n",
       "    <tr>\n",
       "      <th>0</th>\n",
       "      <td>[[27.542, 'MID_LANE', 'BASE_TURRET'], [39.269,...</td>\n",
       "      <td>[[39.23, 'TOP_LANE', 'INNER_TURRET'], [20.681,...</td>\n",
       "      <td>1</td>\n",
       "    </tr>\n",
       "    <tr>\n",
       "      <th>1</th>\n",
       "      <td>[[23.239, 'BOT_LANE', 'OUTER_TURRET'], [33.018...</td>\n",
       "      <td>[[19.257, 'MID_LANE', 'OUTER_TURRET'], [15.206...</td>\n",
       "      <td>0</td>\n",
       "    </tr>\n",
       "    <tr>\n",
       "      <th>2</th>\n",
       "      <td>[[15.045, 'BOT_LANE', 'OUTER_TURRET'], [39.566...</td>\n",
       "      <td>[[24.62, 'MID_LANE', 'OUTER_TURRET'], [30.493,...</td>\n",
       "      <td>1</td>\n",
       "    </tr>\n",
       "    <tr>\n",
       "      <th>3</th>\n",
       "      <td>[[19.941, 'BOT_LANE', 'OUTER_TURRET'], [38.77,...</td>\n",
       "      <td>[[36.384, 'MID_LANE', 'NEXUS_TURRET'], [31.665...</td>\n",
       "      <td>0</td>\n",
       "    </tr>\n",
       "    <tr>\n",
       "      <th>4</th>\n",
       "      <td>[[22.594, 'MID_LANE', 'OUTER_TURRET'], [34.213...</td>\n",
       "      <td>[[11.644, 'MID_LANE', 'OUTER_TURRET'], [12.438...</td>\n",
       "      <td>1</td>\n",
       "    </tr>\n",
       "    <tr>\n",
       "      <th>...</th>\n",
       "      <td>...</td>\n",
       "      <td>...</td>\n",
       "      <td>...</td>\n",
       "    </tr>\n",
       "    <tr>\n",
       "      <th>7615</th>\n",
       "      <td>[[12.448, 'BOT_LANE', 'OUTER_TURRET'], [27.646...</td>\n",
       "      <td>[[25.005, 'TOP_LANE', 'OUTER_TURRET'], [18.149...</td>\n",
       "      <td>0</td>\n",
       "    </tr>\n",
       "    <tr>\n",
       "      <th>7616</th>\n",
       "      <td>[[23.085, 'BOT_LANE', 'INNER_TURRET'], [17.368...</td>\n",
       "      <td>[[38.311, 'MID_LANE', 'NEXUS_TURRET'], [10.572...</td>\n",
       "      <td>0</td>\n",
       "    </tr>\n",
       "    <tr>\n",
       "      <th>7617</th>\n",
       "      <td>[]</td>\n",
       "      <td>[[22.854, 'TOP_LANE', 'BASE_TURRET'], [23.285,...</td>\n",
       "      <td>0</td>\n",
       "    </tr>\n",
       "    <tr>\n",
       "      <th>7618</th>\n",
       "      <td>[[22.043, 'TOP_LANE', 'OUTER_TURRET'], [24.727...</td>\n",
       "      <td>[[32.793, 'BOT_LANE', 'INNER_TURRET'], [22.866...</td>\n",
       "      <td>1</td>\n",
       "    </tr>\n",
       "    <tr>\n",
       "      <th>7619</th>\n",
       "      <td>[[18.042, 'BOT_LANE', 'OUTER_TURRET'], [13.644...</td>\n",
       "      <td>[[32.298, 'MID_LANE', 'INNER_TURRET'], [40.779...</td>\n",
       "      <td>0</td>\n",
       "    </tr>\n",
       "  </tbody>\n",
       "</table>\n",
       "<p>7620 rows × 3 columns</p>\n",
       "</div>"
      ],
      "text/plain": [
       "                                                bTowers  \\\n",
       "0     [[27.542, 'MID_LANE', 'BASE_TURRET'], [39.269,...   \n",
       "1     [[23.239, 'BOT_LANE', 'OUTER_TURRET'], [33.018...   \n",
       "2     [[15.045, 'BOT_LANE', 'OUTER_TURRET'], [39.566...   \n",
       "3     [[19.941, 'BOT_LANE', 'OUTER_TURRET'], [38.77,...   \n",
       "4     [[22.594, 'MID_LANE', 'OUTER_TURRET'], [34.213...   \n",
       "...                                                 ...   \n",
       "7615  [[12.448, 'BOT_LANE', 'OUTER_TURRET'], [27.646...   \n",
       "7616  [[23.085, 'BOT_LANE', 'INNER_TURRET'], [17.368...   \n",
       "7617                                                 []   \n",
       "7618  [[22.043, 'TOP_LANE', 'OUTER_TURRET'], [24.727...   \n",
       "7619  [[18.042, 'BOT_LANE', 'OUTER_TURRET'], [13.644...   \n",
       "\n",
       "                                                rTowers  bResult  \n",
       "0     [[39.23, 'TOP_LANE', 'INNER_TURRET'], [20.681,...        1  \n",
       "1     [[19.257, 'MID_LANE', 'OUTER_TURRET'], [15.206...        0  \n",
       "2     [[24.62, 'MID_LANE', 'OUTER_TURRET'], [30.493,...        1  \n",
       "3     [[36.384, 'MID_LANE', 'NEXUS_TURRET'], [31.665...        0  \n",
       "4     [[11.644, 'MID_LANE', 'OUTER_TURRET'], [12.438...        1  \n",
       "...                                                 ...      ...  \n",
       "7615  [[25.005, 'TOP_LANE', 'OUTER_TURRET'], [18.149...        0  \n",
       "7616  [[38.311, 'MID_LANE', 'NEXUS_TURRET'], [10.572...        0  \n",
       "7617  [[22.854, 'TOP_LANE', 'BASE_TURRET'], [23.285,...        0  \n",
       "7618  [[32.793, 'BOT_LANE', 'INNER_TURRET'], [22.866...        1  \n",
       "7619  [[32.298, 'MID_LANE', 'INNER_TURRET'], [40.779...        0  \n",
       "\n",
       "[7620 rows x 3 columns]"
      ]
     },
     "execution_count": 8,
     "metadata": {},
     "output_type": "execute_result"
    }
   ],
   "source": [
    "datatorres"
   ]
  },
  {
   "cell_type": "markdown",
   "metadata": {},
   "source": [
    "indexNames = datatorres[ datatorres['bTowers'] == '[]' ].index\n",
    "# Delete these row indexes from dataFrame\n",
    "datatorres=datatorres.drop(indexNames , inplace=True)\n",
    "datatorres"
   ]
  },
  {
   "cell_type": "markdown",
   "metadata": {},
   "source": [
    "### Variables categoricas a numericas"
   ]
  },
  {
   "cell_type": "code",
   "execution_count": 9,
   "metadata": {},
   "outputs": [
    {
     "data": {
      "text/plain": [
       "pandas.core.series.Series"
      ]
     },
     "execution_count": 9,
     "metadata": {},
     "output_type": "execute_result"
    }
   ],
   "source": [
    "type(datatorres.bTowers)#Podemos ver que la columna es una serie"
   ]
  },
  {
   "cell_type": "code",
   "execution_count": 10,
   "metadata": {},
   "outputs": [
    {
     "data": {
      "text/plain": [
       "str"
      ]
     },
     "execution_count": 10,
     "metadata": {},
     "output_type": "execute_result"
    }
   ],
   "source": [
    "type(datatorres.bTowers[1])#Pero cada fila es un string"
   ]
  },
  {
   "cell_type": "code",
   "execution_count": 11,
   "metadata": {},
   "outputs": [
    {
     "name": "stdout",
     "output_type": "stream",
     "text": [
      "[[27.542, 'MID_LANE', 'BASE_TURRET'], [39.269, 'MID_LANE', 'NEXUS_TURRET'], [33.583, 'BOT_LANE', 'INNER_TURRET'], [23.038, 'TOP_LANE', 'INNER_TURRET'], [16.556, 'BOT_LANE', 'OUTER_TURRET'], [15.014, 'MID_LANE', 'OUTER_TURRET'], [39.376, 'MID_LANE', 'NEXUS_TURRET'], [15.217, 'MID_LANE', 'INNER_TURRET'], [17.856, 'TOP_LANE', 'OUTER_TURRET']]\n"
     ]
    }
   ],
   "source": [
    "print(datatorres.bTowers[0]) #Podemos dividir los elementos segun los caracteres del final del array, es decir, '],'"
   ]
  },
  {
   "cell_type": "code",
   "execution_count": 12,
   "metadata": {},
   "outputs": [
    {
     "name": "stdout",
     "output_type": "stream",
     "text": [
      "[[23.239, 'BOT_LANE', 'OUTER_TURRET'], [33.018, 'BOT_LANE', 'INNER_TURRET'], [28.989, 'BOT_LANE', 'FOUNTAIN_TURRET'], [25.564, 'MID_LANE', 'OUTER_TURRET'], [20.058, 'BOT_LANE', 'FOUNTAIN_TURRET'], [15.306, 'TOP_LANE', 'OUTER_TURRET'], [34.766, 'TOP_LANE', 'INNER_TURRET']]\n"
     ]
    }
   ],
   "source": [
    "print(datatorres.bTowers[1])"
   ]
  },
  {
   "cell_type": "code",
   "execution_count": 13,
   "metadata": {},
   "outputs": [
    {
     "name": "stderr",
     "output_type": "stream",
     "text": [
      "<ipython-input-13-8f7ab98f6f44>:4: SettingWithCopyWarning: \n",
      "A value is trying to be set on a copy of a slice from a DataFrame\n",
      "\n",
      "See the caveats in the documentation: https://pandas.pydata.org/pandas-docs/stable/user_guide/indexing.html#returning-a-view-versus-a-copy\n",
      "  datatorres.bTowers[i]=datatorres.bTowers[i].split(', [')\n",
      "/Users/roig/opt/anaconda3/lib/python3.8/site-packages/IPython/core/interactiveshell.py:3418: SettingWithCopyWarning: \n",
      "A value is trying to be set on a copy of a slice from a DataFrame\n",
      "\n",
      "See the caveats in the documentation: https://pandas.pydata.org/pandas-docs/stable/user_guide/indexing.html#returning-a-view-versus-a-copy\n",
      "  exec(code_obj, self.user_global_ns, self.user_ns)\n",
      "<ipython-input-13-8f7ab98f6f44>:5: SettingWithCopyWarning: \n",
      "A value is trying to be set on a copy of a slice from a DataFrame\n",
      "\n",
      "See the caveats in the documentation: https://pandas.pydata.org/pandas-docs/stable/user_guide/indexing.html#returning-a-view-versus-a-copy\n",
      "  datatorres.rTowers[i]=datatorres.rTowers[i].split(', [')\n"
     ]
    },
    {
     "data": {
      "text/html": [
       "<div>\n",
       "<style scoped>\n",
       "    .dataframe tbody tr th:only-of-type {\n",
       "        vertical-align: middle;\n",
       "    }\n",
       "\n",
       "    .dataframe tbody tr th {\n",
       "        vertical-align: top;\n",
       "    }\n",
       "\n",
       "    .dataframe thead th {\n",
       "        text-align: right;\n",
       "    }\n",
       "</style>\n",
       "<table border=\"1\" class=\"dataframe\">\n",
       "  <thead>\n",
       "    <tr style=\"text-align: right;\">\n",
       "      <th></th>\n",
       "      <th>bTowers</th>\n",
       "      <th>rTowers</th>\n",
       "      <th>bResult</th>\n",
       "    </tr>\n",
       "  </thead>\n",
       "  <tbody>\n",
       "    <tr>\n",
       "      <th>0</th>\n",
       "      <td>[[[27.542, 'MID_LANE', 'BASE_TURRET'], 39.269,...</td>\n",
       "      <td>[[[39.23, 'TOP_LANE', 'INNER_TURRET'], 20.681,...</td>\n",
       "      <td>1</td>\n",
       "    </tr>\n",
       "    <tr>\n",
       "      <th>1</th>\n",
       "      <td>[[[23.239, 'BOT_LANE', 'OUTER_TURRET'], 33.018...</td>\n",
       "      <td>[[[19.257, 'MID_LANE', 'OUTER_TURRET'], 15.206...</td>\n",
       "      <td>0</td>\n",
       "    </tr>\n",
       "    <tr>\n",
       "      <th>2</th>\n",
       "      <td>[[[15.045, 'BOT_LANE', 'OUTER_TURRET'], 39.566...</td>\n",
       "      <td>[[[24.62, 'MID_LANE', 'OUTER_TURRET'], 30.493,...</td>\n",
       "      <td>1</td>\n",
       "    </tr>\n",
       "    <tr>\n",
       "      <th>3</th>\n",
       "      <td>[[[19.941, 'BOT_LANE', 'OUTER_TURRET'], 38.77,...</td>\n",
       "      <td>[[[36.384, 'MID_LANE', 'NEXUS_TURRET'], 31.665...</td>\n",
       "      <td>0</td>\n",
       "    </tr>\n",
       "    <tr>\n",
       "      <th>4</th>\n",
       "      <td>[[[22.594, 'MID_LANE', 'OUTER_TURRET'], 34.213...</td>\n",
       "      <td>[[[11.644, 'MID_LANE', 'OUTER_TURRET'], 12.438...</td>\n",
       "      <td>1</td>\n",
       "    </tr>\n",
       "    <tr>\n",
       "      <th>...</th>\n",
       "      <td>...</td>\n",
       "      <td>...</td>\n",
       "      <td>...</td>\n",
       "    </tr>\n",
       "    <tr>\n",
       "      <th>7615</th>\n",
       "      <td>[[[12.448, 'BOT_LANE', 'OUTER_TURRET'], 27.646...</td>\n",
       "      <td>[[[25.005, 'TOP_LANE', 'OUTER_TURRET'], 18.149...</td>\n",
       "      <td>0</td>\n",
       "    </tr>\n",
       "    <tr>\n",
       "      <th>7616</th>\n",
       "      <td>[[[23.085, 'BOT_LANE', 'INNER_TURRET'], 17.368...</td>\n",
       "      <td>[[[38.311, 'MID_LANE', 'NEXUS_TURRET'], 10.572...</td>\n",
       "      <td>0</td>\n",
       "    </tr>\n",
       "    <tr>\n",
       "      <th>7617</th>\n",
       "      <td>[[]]</td>\n",
       "      <td>[[[22.854, 'TOP_LANE', 'BASE_TURRET'], 23.285,...</td>\n",
       "      <td>0</td>\n",
       "    </tr>\n",
       "    <tr>\n",
       "      <th>7618</th>\n",
       "      <td>[[[22.043, 'TOP_LANE', 'OUTER_TURRET'], 24.727...</td>\n",
       "      <td>[[[32.793, 'BOT_LANE', 'INNER_TURRET'], 22.866...</td>\n",
       "      <td>1</td>\n",
       "    </tr>\n",
       "    <tr>\n",
       "      <th>7619</th>\n",
       "      <td>[[[18.042, 'BOT_LANE', 'OUTER_TURRET'], 13.644...</td>\n",
       "      <td>[[[32.298, 'MID_LANE', 'INNER_TURRET'], 40.779...</td>\n",
       "      <td>0</td>\n",
       "    </tr>\n",
       "  </tbody>\n",
       "</table>\n",
       "<p>7620 rows × 3 columns</p>\n",
       "</div>"
      ],
      "text/plain": [
       "                                                bTowers  \\\n",
       "0     [[[27.542, 'MID_LANE', 'BASE_TURRET'], 39.269,...   \n",
       "1     [[[23.239, 'BOT_LANE', 'OUTER_TURRET'], 33.018...   \n",
       "2     [[[15.045, 'BOT_LANE', 'OUTER_TURRET'], 39.566...   \n",
       "3     [[[19.941, 'BOT_LANE', 'OUTER_TURRET'], 38.77,...   \n",
       "4     [[[22.594, 'MID_LANE', 'OUTER_TURRET'], 34.213...   \n",
       "...                                                 ...   \n",
       "7615  [[[12.448, 'BOT_LANE', 'OUTER_TURRET'], 27.646...   \n",
       "7616  [[[23.085, 'BOT_LANE', 'INNER_TURRET'], 17.368...   \n",
       "7617                                               [[]]   \n",
       "7618  [[[22.043, 'TOP_LANE', 'OUTER_TURRET'], 24.727...   \n",
       "7619  [[[18.042, 'BOT_LANE', 'OUTER_TURRET'], 13.644...   \n",
       "\n",
       "                                                rTowers  bResult  \n",
       "0     [[[39.23, 'TOP_LANE', 'INNER_TURRET'], 20.681,...        1  \n",
       "1     [[[19.257, 'MID_LANE', 'OUTER_TURRET'], 15.206...        0  \n",
       "2     [[[24.62, 'MID_LANE', 'OUTER_TURRET'], 30.493,...        1  \n",
       "3     [[[36.384, 'MID_LANE', 'NEXUS_TURRET'], 31.665...        0  \n",
       "4     [[[11.644, 'MID_LANE', 'OUTER_TURRET'], 12.438...        1  \n",
       "...                                                 ...      ...  \n",
       "7615  [[[25.005, 'TOP_LANE', 'OUTER_TURRET'], 18.149...        0  \n",
       "7616  [[[38.311, 'MID_LANE', 'NEXUS_TURRET'], 10.572...        0  \n",
       "7617  [[[22.854, 'TOP_LANE', 'BASE_TURRET'], 23.285,...        0  \n",
       "7618  [[[32.793, 'BOT_LANE', 'INNER_TURRET'], 22.866...        1  \n",
       "7619  [[[32.298, 'MID_LANE', 'INNER_TURRET'], 40.779...        0  \n",
       "\n",
       "[7620 rows x 3 columns]"
      ]
     },
     "execution_count": 13,
     "metadata": {},
     "output_type": "execute_result"
    }
   ],
   "source": [
    "#Como cada fila hace referencia a una partida y cada fila tiene un str con todas las torres destruidas creamos una lista\n",
    "#que utiliza como separador '],' para poder contar el numero de torres destruidas\n",
    "for i in range(0,len(datatorres.index)):\n",
    "    datatorres.bTowers[i]=datatorres.bTowers[i].split(', [')\n",
    "    datatorres.rTowers[i]=datatorres.rTowers[i].split(', [')\n",
    "datatorres"
   ]
  },
  {
   "cell_type": "code",
   "execution_count": 14,
   "metadata": {},
   "outputs": [
    {
     "name": "stderr",
     "output_type": "stream",
     "text": [
      "<ipython-input-14-2c852bcb22e8>:4: SettingWithCopyWarning: \n",
      "A value is trying to be set on a copy of a slice from a DataFrame\n",
      "\n",
      "See the caveats in the documentation: https://pandas.pydata.org/pandas-docs/stable/user_guide/indexing.html#returning-a-view-versus-a-copy\n",
      "  datatorres.bTowers[i]=len(datatorres.bTowers[i])\n",
      "/Users/roig/opt/anaconda3/lib/python3.8/site-packages/IPython/core/interactiveshell.py:3418: SettingWithCopyWarning: \n",
      "A value is trying to be set on a copy of a slice from a DataFrame\n",
      "\n",
      "See the caveats in the documentation: https://pandas.pydata.org/pandas-docs/stable/user_guide/indexing.html#returning-a-view-versus-a-copy\n",
      "  exec(code_obj, self.user_global_ns, self.user_ns)\n",
      "<ipython-input-14-2c852bcb22e8>:5: SettingWithCopyWarning: \n",
      "A value is trying to be set on a copy of a slice from a DataFrame\n",
      "\n",
      "See the caveats in the documentation: https://pandas.pydata.org/pandas-docs/stable/user_guide/indexing.html#returning-a-view-versus-a-copy\n",
      "  datatorres.rTowers[i]=len(datatorres.rTowers[i])\n"
     ]
    }
   ],
   "source": [
    "#Una vez creada la lista de elementos en cada row que corresponde con la informacion de las torres destruidas\n",
    "#sustituimos dicho string por la cantidad de torres destruidas\n",
    "for i in range(0,len(datatorres.index)):\n",
    "    datatorres.bTowers[i]=len(datatorres.bTowers[i])\n",
    "    datatorres.rTowers[i]=len(datatorres.rTowers[i])"
   ]
  },
  {
   "cell_type": "code",
   "execution_count": 15,
   "metadata": {},
   "outputs": [
    {
     "data": {
      "text/html": [
       "<div>\n",
       "<style scoped>\n",
       "    .dataframe tbody tr th:only-of-type {\n",
       "        vertical-align: middle;\n",
       "    }\n",
       "\n",
       "    .dataframe tbody tr th {\n",
       "        vertical-align: top;\n",
       "    }\n",
       "\n",
       "    .dataframe thead th {\n",
       "        text-align: right;\n",
       "    }\n",
       "</style>\n",
       "<table border=\"1\" class=\"dataframe\">\n",
       "  <thead>\n",
       "    <tr style=\"text-align: right;\">\n",
       "      <th></th>\n",
       "      <th>bTowers</th>\n",
       "      <th>rTowers</th>\n",
       "      <th>bResult</th>\n",
       "    </tr>\n",
       "  </thead>\n",
       "  <tbody>\n",
       "    <tr>\n",
       "      <th>0</th>\n",
       "      <td>9</td>\n",
       "      <td>4</td>\n",
       "      <td>1</td>\n",
       "    </tr>\n",
       "    <tr>\n",
       "      <th>1</th>\n",
       "      <td>7</td>\n",
       "      <td>7</td>\n",
       "      <td>0</td>\n",
       "    </tr>\n",
       "    <tr>\n",
       "      <th>2</th>\n",
       "      <td>15</td>\n",
       "      <td>2</td>\n",
       "      <td>1</td>\n",
       "    </tr>\n",
       "    <tr>\n",
       "      <th>3</th>\n",
       "      <td>4</td>\n",
       "      <td>7</td>\n",
       "      <td>0</td>\n",
       "    </tr>\n",
       "    <tr>\n",
       "      <th>4</th>\n",
       "      <td>8</td>\n",
       "      <td>4</td>\n",
       "      <td>1</td>\n",
       "    </tr>\n",
       "    <tr>\n",
       "      <th>...</th>\n",
       "      <td>...</td>\n",
       "      <td>...</td>\n",
       "      <td>...</td>\n",
       "    </tr>\n",
       "    <tr>\n",
       "      <th>7615</th>\n",
       "      <td>4</td>\n",
       "      <td>9</td>\n",
       "      <td>0</td>\n",
       "    </tr>\n",
       "    <tr>\n",
       "      <th>7616</th>\n",
       "      <td>5</td>\n",
       "      <td>10</td>\n",
       "      <td>0</td>\n",
       "    </tr>\n",
       "    <tr>\n",
       "      <th>7617</th>\n",
       "      <td>1</td>\n",
       "      <td>11</td>\n",
       "      <td>0</td>\n",
       "    </tr>\n",
       "    <tr>\n",
       "      <th>7618</th>\n",
       "      <td>9</td>\n",
       "      <td>3</td>\n",
       "      <td>1</td>\n",
       "    </tr>\n",
       "    <tr>\n",
       "      <th>7619</th>\n",
       "      <td>4</td>\n",
       "      <td>11</td>\n",
       "      <td>0</td>\n",
       "    </tr>\n",
       "  </tbody>\n",
       "</table>\n",
       "<p>7620 rows × 3 columns</p>\n",
       "</div>"
      ],
      "text/plain": [
       "     bTowers rTowers  bResult\n",
       "0          9       4        1\n",
       "1          7       7        0\n",
       "2         15       2        1\n",
       "3          4       7        0\n",
       "4          8       4        1\n",
       "...      ...     ...      ...\n",
       "7615       4       9        0\n",
       "7616       5      10        0\n",
       "7617       1      11        0\n",
       "7618       9       3        1\n",
       "7619       4      11        0\n",
       "\n",
       "[7620 rows x 3 columns]"
      ]
     },
     "execution_count": 15,
     "metadata": {},
     "output_type": "execute_result"
    }
   ],
   "source": [
    "datatorres#Ahora podemos empezar a trabajar con los datos"
   ]
  },
  {
   "cell_type": "code",
   "execution_count": 16,
   "metadata": {},
   "outputs": [
    {
     "name": "stderr",
     "output_type": "stream",
     "text": [
      "/Users/roig/opt/anaconda3/lib/python3.8/site-packages/pandas/core/frame.py:4163: SettingWithCopyWarning: \n",
      "A value is trying to be set on a copy of a slice from a DataFrame\n",
      "\n",
      "See the caveats in the documentation: https://pandas.pydata.org/pandas-docs/stable/user_guide/indexing.html#returning-a-view-versus-a-copy\n",
      "  return super().drop(\n"
     ]
    }
   ],
   "source": [
    "#Quitamos 5 pasajeros para utilizarlos en el ultimo apartado\n",
    "test=datatorres.tail(50)\n",
    "datatorres.drop(data.tail(50).index,inplace=True)"
   ]
  },
  {
   "cell_type": "markdown",
   "metadata": {},
   "source": [
    "### Procesamiento de los datos para hipotesis"
   ]
  },
  {
   "cell_type": "code",
   "execution_count": 17,
   "metadata": {},
   "outputs": [
    {
     "name": "stdout",
     "output_type": "stream",
     "text": [
      "El numero de veces que gana destruyendo menos torres es: 55\n"
     ]
    }
   ],
   "source": [
    "#Contar numero de veces que el equipo azul gana destruyendo menos torres\n",
    "contar=0\n",
    "for i in range(0,len(datatorres.index)):\n",
    "    if((datatorres.bTowers[i]<datatorres.rTowers[i]) & (datatorres.bResult[i]==1)):\n",
    "        contar=contar+1\n",
    "menostorres=contar\n",
    "print('El numero de veces que gana destruyendo menos torres es: '+str(menostorres))"
   ]
  },
  {
   "cell_type": "code",
   "execution_count": 18,
   "metadata": {},
   "outputs": [
    {
     "name": "stdout",
     "output_type": "stream",
     "text": [
      "El numero de veces que gana destruyendo mas torres es: 4023\n"
     ]
    }
   ],
   "source": [
    "#Contar numero de veces que el equipo azul gana destruyendo mas torres\n",
    "contar=0\n",
    "for i in range(0,len(datatorres.index)):\n",
    "    if((datatorres.bTowers[i]>datatorres.rTowers[i]) & (datatorres.bResult[i]==1)):\n",
    "        contar=contar+1\n",
    "mastorres=contar\n",
    "print('El numero de veces que gana destruyendo mas torres es: '+str(mastorres))"
   ]
  },
  {
   "cell_type": "code",
   "execution_count": 19,
   "metadata": {},
   "outputs": [
    {
     "data": {
      "text/html": [
       "<div>\n",
       "<style scoped>\n",
       "    .dataframe tbody tr th:only-of-type {\n",
       "        vertical-align: middle;\n",
       "    }\n",
       "\n",
       "    .dataframe tbody tr th {\n",
       "        vertical-align: top;\n",
       "    }\n",
       "\n",
       "    .dataframe thead th {\n",
       "        text-align: right;\n",
       "    }\n",
       "</style>\n",
       "<table border=\"1\" class=\"dataframe\">\n",
       "  <thead>\n",
       "    <tr style=\"text-align: right;\">\n",
       "      <th></th>\n",
       "      <th>menostorres</th>\n",
       "      <th>mastorres</th>\n",
       "    </tr>\n",
       "  </thead>\n",
       "  <tbody>\n",
       "    <tr>\n",
       "      <th>0</th>\n",
       "      <td>55</td>\n",
       "      <td>4023</td>\n",
       "    </tr>\n",
       "  </tbody>\n",
       "</table>\n",
       "</div>"
      ],
      "text/plain": [
       "   menostorres  mastorres\n",
       "0           55       4023"
      ]
     },
     "execution_count": 19,
     "metadata": {},
     "output_type": "execute_result"
    }
   ],
   "source": [
    "#Creacion de un dataframe con los datos obtenidos de las condiciones \n",
    "d = {'menostorres': [menostorres], 'mastorres': [mastorres]}\n",
    "df = pd.DataFrame(data=d)\n",
    "df"
   ]
  },
  {
   "cell_type": "code",
   "execution_count": 20,
   "metadata": {},
   "outputs": [
    {
     "data": {
      "text/plain": [
       "<AxesSubplot:>"
      ]
     },
     "execution_count": 20,
     "metadata": {},
     "output_type": "execute_result"
    },
    {
     "data": {
      "image/png": "[encoded data removed]",
      "text/plain": [
       "<Figure size 864x432 with 1 Axes>"
      ]
     },
     "metadata": {},
     "output_type": "display_data"
    }
   ],
   "source": [
    "#Representacion de los datos\n",
    "df.plot(kind='bar',figsize=(12,6))"
   ]
  },
  {
   "cell_type": "markdown",
   "metadata": {},
   "source": [
    "## Conclusion"
   ]
  },
  {
   "cell_type": "markdown",
   "metadata": {},
   "source": [
    "Como podemos ver se puede afirmar que el equipo que obtenga el mayor numero de torres sera el que ganara."
   ]
  },
  {
   "cell_type": "markdown",
   "metadata": {},
   "source": [
    "# Creacion del clasificador por reglas"
   ]
  },
  {
   "cell_type": "markdown",
   "metadata": {},
   "source": [
    "#Si nos fijamos nos indica en las columnas nos indican en que minuto se ha destruido la torre, en que linea, y que torre era\n",
    "#Pero a nosotros solo los importa que se ha destruido una torres, entonces representaremos la destruccion de las torres con un 1\n",
    "#Y los array vacios como 0, es decir, que no se ha destruido una torre\n",
    "for i in range(0,len(datatorres.index)):\n",
    "    if(datatorres.bTowers[i]!='[]'):\n",
    "        datatorres.bTowers[i]=1\n",
    "    else:\n",
    "        datatorres.bTowers[i]=0\n",
    "    if(datatorres.rTowers[i]!='[]'):\n",
    "        datatorres.rTowers[i]=1\n",
    "    else:\n",
    "        datatorres.rTowers[i]=0\n",
    "datatorres"
   ]
  },
  {
   "cell_type": "code",
   "execution_count": 21,
   "metadata": {},
   "outputs": [
    {
     "data": {
      "text/html": [
       "<div>\n",
       "<style scoped>\n",
       "    .dataframe tbody tr th:only-of-type {\n",
       "        vertical-align: middle;\n",
       "    }\n",
       "\n",
       "    .dataframe tbody tr th {\n",
       "        vertical-align: top;\n",
       "    }\n",
       "\n",
       "    .dataframe thead th {\n",
       "        text-align: right;\n",
       "    }\n",
       "</style>\n",
       "<table border=\"1\" class=\"dataframe\">\n",
       "  <thead>\n",
       "    <tr style=\"text-align: right;\">\n",
       "      <th></th>\n",
       "      <th>bTowers</th>\n",
       "      <th>rTowers</th>\n",
       "    </tr>\n",
       "  </thead>\n",
       "  <tbody>\n",
       "    <tr>\n",
       "      <th>0</th>\n",
       "      <td>9</td>\n",
       "      <td>4</td>\n",
       "    </tr>\n",
       "    <tr>\n",
       "      <th>1</th>\n",
       "      <td>7</td>\n",
       "      <td>7</td>\n",
       "    </tr>\n",
       "    <tr>\n",
       "      <th>2</th>\n",
       "      <td>15</td>\n",
       "      <td>2</td>\n",
       "    </tr>\n",
       "    <tr>\n",
       "      <th>3</th>\n",
       "      <td>4</td>\n",
       "      <td>7</td>\n",
       "    </tr>\n",
       "    <tr>\n",
       "      <th>4</th>\n",
       "      <td>8</td>\n",
       "      <td>4</td>\n",
       "    </tr>\n",
       "    <tr>\n",
       "      <th>...</th>\n",
       "      <td>...</td>\n",
       "      <td>...</td>\n",
       "    </tr>\n",
       "    <tr>\n",
       "      <th>7565</th>\n",
       "      <td>11</td>\n",
       "      <td>1</td>\n",
       "    </tr>\n",
       "    <tr>\n",
       "      <th>7566</th>\n",
       "      <td>2</td>\n",
       "      <td>10</td>\n",
       "    </tr>\n",
       "    <tr>\n",
       "      <th>7567</th>\n",
       "      <td>10</td>\n",
       "      <td>2</td>\n",
       "    </tr>\n",
       "    <tr>\n",
       "      <th>7568</th>\n",
       "      <td>3</td>\n",
       "      <td>10</td>\n",
       "    </tr>\n",
       "    <tr>\n",
       "      <th>7569</th>\n",
       "      <td>9</td>\n",
       "      <td>2</td>\n",
       "    </tr>\n",
       "  </tbody>\n",
       "</table>\n",
       "<p>7570 rows × 2 columns</p>\n",
       "</div>"
      ],
      "text/plain": [
       "     bTowers rTowers\n",
       "0          9       4\n",
       "1          7       7\n",
       "2         15       2\n",
       "3          4       7\n",
       "4          8       4\n",
       "...      ...     ...\n",
       "7565      11       1\n",
       "7566       2      10\n",
       "7567      10       2\n",
       "7568       3      10\n",
       "7569       9       2\n",
       "\n",
       "[7570 rows x 2 columns]"
      ]
     },
     "execution_count": 21,
     "metadata": {},
     "output_type": "execute_result"
    }
   ],
   "source": [
    "#Creamos los datos con de entrenamiento y el test\n",
    "x=datatorres.drop([\"bResult\"],axis=1)\n",
    "y=datatorres[\"bResult\"]\n",
    "#80% para el training 20%para el test\n",
    "x_train,x_test,y_train,y_test=train_test_split(x,y,test_size=0.2,random_state=0)\n",
    "x"
   ]
  },
  {
   "cell_type": "code",
   "execution_count": 22,
   "metadata": {},
   "outputs": [],
   "source": [
    "#Calculamos la precision del modelo\n",
    "#Utilizamos kfold\n",
    "k_fold = KFold(n_splits=5, shuffle=True, random_state=0)\n",
    "def accuracy(model):\n",
    "    return np.mean(cross_val_score(model,x_train,y_train,cv=k_fold,scoring=\"accuracy\"))"
   ]
  },
  {
   "cell_type": "code",
   "execution_count": 23,
   "metadata": {},
   "outputs": [
    {
     "name": "stdout",
     "output_type": "stream",
     "text": [
      "Precision: 0.9778732084604\n",
      "Error: 0.022126791539599955\n"
     ]
    }
   ],
   "source": [
    "Dec_tree=DecisionTreeClassifier(max_depth=4,random_state=5)\n",
    "Dec_tree.fit(x_train,y_train)\n",
    "print(\"Precision: \" + str(accuracy(Dec_tree)))\n",
    "#Error: 1- precision\n",
    "print(\"Error: \" + str(1-accuracy(Dec_tree)))"
   ]
  },
  {
   "cell_type": "code",
   "execution_count": 24,
   "metadata": {},
   "outputs": [
    {
     "data": {
      "text/plain": [
       "array([[641,  24],\n",
       "       [ 18, 831]])"
      ]
     },
     "execution_count": 24,
     "metadata": {},
     "output_type": "execute_result"
    }
   ],
   "source": [
    "yr = Dec_tree.predict(x_test)\n",
    "confusion_matrix(yr, y_test)"
   ]
  },
  {
   "cell_type": "code",
   "execution_count": 25,
   "metadata": {},
   "outputs": [
    {
     "data": {
      "text/plain": [
       "<AxesSubplot:title={'center':'Normalized Confusion Matrix'}, xlabel='Predicted label', ylabel='True label'>"
      ]
     },
     "execution_count": 25,
     "metadata": {},
     "output_type": "execute_result"
    },
    {
     "data": {
      "image/png": "[encoded data removed]",
      "text/plain": [
       "<Figure size 432x432 with 2 Axes>"
      ]
     },
     "metadata": {},
     "output_type": "display_data"
    }
   ],
   "source": [
    "skplt.metrics.plot_confusion_matrix(y_test, Dec_tree.predict(x_test),normalize=True,figsize=(6,6),text_fontsize='small')"
   ]
  },
  {
   "cell_type": "markdown",
   "metadata": {},
   "source": [
    "Como podemos ver el modelo a predecido correctamente 641 casos en los que iba a ganar y 18 casos los ha predecido incorrectamente lo que equivale a un 97% de precision.\n",
    "Ha predecido correctamente 831 casos en los que iba a perder y 24 casos los ha predecido incorrectamente lo que equivale un 97% de precision"
   ]
  },
  {
   "cell_type": "markdown",
   "metadata": {},
   "source": [
    "### Test"
   ]
  },
  {
   "cell_type": "code",
   "execution_count": 26,
   "metadata": {},
   "outputs": [],
   "source": [
    "#Test clasificar 50 rows\n",
    "x_test=test.drop([\"bResult\"],axis=1)\n",
    "y_test=test[\"bResult\"]"
   ]
  },
  {
   "cell_type": "code",
   "execution_count": 27,
   "metadata": {},
   "outputs": [
    {
     "data": {
      "text/plain": [
       "array([[23,  1],\n",
       "       [ 0, 26]])"
      ]
     },
     "execution_count": 27,
     "metadata": {},
     "output_type": "execute_result"
    }
   ],
   "source": [
    "#Pasamos los datos nuevos por el clasificador\n",
    "confusion_matrix(Dec_tree.predict(x_test), y_test)"
   ]
  },
  {
   "cell_type": "code",
   "execution_count": 28,
   "metadata": {},
   "outputs": [
    {
     "data": {
      "text/plain": [
       "<AxesSubplot:title={'center':'Normalized Confusion Matrix'}, xlabel='Predicted label', ylabel='True label'>"
      ]
     },
     "execution_count": 28,
     "metadata": {},
     "output_type": "execute_result"
    },
    {
     "data": {
      "image/png": "[encoded data removed]",
      "text/plain": [
       "<Figure size 432x432 with 2 Axes>"
      ]
     },
     "metadata": {},
     "output_type": "display_data"
    }
   ],
   "source": [
    "skplt.metrics.plot_confusion_matrix(y_test, Dec_tree.predict(x_test),normalize=True,figsize=(6,6),text_fontsize='small')"
   ]
  },
  {
   "cell_type": "markdown",
   "metadata": {},
   "source": [
    "Como podemos ver ha predecido correctamente todos los casos en los que el equipo ha ganado, \n",
    "ha predecido correctamente 26 casos de los 27 casos dados en los que el equipo ha perdido, esto equivale\n",
    "a un 96% de precision"
   ]
  },
  {
   "cell_type": "markdown",
   "metadata": {},
   "source": [
    "## Reglas"
   ]
  },
  {
   "cell_type": "code",
   "execution_count": 29,
   "metadata": {},
   "outputs": [
    {
     "name": "stdout",
     "output_type": "stream",
     "text": [
      "|--- rTowers <= 6.50\n",
      "|   |--- bTowers <= 5.50\n",
      "|   |   |--- rTowers <= 2.50\n",
      "|   |   |   |--- weights: [0.00, 6.00] class: 1\n",
      "|   |   |--- rTowers >  2.50\n",
      "|   |   |   |--- bTowers <= 4.50\n",
      "|   |   |   |   |--- weights: [16.00, 0.00] class: 0\n",
      "|   |   |   |--- bTowers >  4.50\n",
      "|   |   |   |   |--- weights: [4.00, 1.00] class: 0\n",
      "|   |--- bTowers >  5.50\n",
      "|   |   |--- bTowers <= 6.50\n",
      "|   |   |   |--- rTowers <= 5.50\n",
      "|   |   |   |   |--- weights: [0.00, 14.00] class: 1\n",
      "|   |   |   |--- rTowers >  5.50\n",
      "|   |   |   |   |--- weights: [3.00, 1.00] class: 0\n",
      "|   |   |--- bTowers >  6.50\n",
      "|   |   |   |--- rTowers <= 5.50\n",
      "|   |   |   |   |--- weights: [2.00, 2853.00] class: 1\n",
      "|   |   |   |--- rTowers >  5.50\n",
      "|   |   |   |   |--- weights: [5.00, 153.00] class: 1\n",
      "|--- rTowers >  6.50\n",
      "|   |--- bTowers <= 7.50\n",
      "|   |   |--- bTowers <= 6.50\n",
      "|   |   |   |--- bTowers <= 5.50\n",
      "|   |   |   |   |--- weights: [2347.00, 1.00] class: 0\n",
      "|   |   |   |--- bTowers >  5.50\n",
      "|   |   |   |   |--- weights: [179.00, 4.00] class: 0\n",
      "|   |   |--- bTowers >  6.50\n",
      "|   |   |   |--- rTowers <= 9.50\n",
      "|   |   |   |   |--- weights: [57.00, 22.00] class: 0\n",
      "|   |   |   |--- rTowers >  9.50\n",
      "|   |   |   |   |--- weights: [55.00, 5.00] class: 0\n",
      "|   |--- bTowers >  7.50\n",
      "|   |   |--- rTowers <= 8.50\n",
      "|   |   |   |--- bTowers <= 9.50\n",
      "|   |   |   |   |--- weights: [31.00, 77.00] class: 1\n",
      "|   |   |   |--- bTowers >  9.50\n",
      "|   |   |   |   |--- weights: [11.00, 86.00] class: 1\n",
      "|   |   |--- rTowers >  8.50\n",
      "|   |   |   |--- bTowers <= 8.50\n",
      "|   |   |   |   |--- weights: [47.00, 11.00] class: 0\n",
      "|   |   |   |--- bTowers >  8.50\n",
      "|   |   |   |   |--- weights: [35.00, 30.00] class: 0\n",
      "\n"
     ]
    }
   ],
   "source": [
    "#Para obtener las reglas utilizamos los headers del entrenamiento\n",
    "#La probabilidad de que ocurra se calcula dividiendo el numero mayor de casos entre el numero de casos totales\n",
    "caract=list(x.columns)\n",
    "text_representation = tree.export_text(Dec_tree, feature_names=caract,show_weights=True)\n",
    "print(text_representation)"
   ]
  }
 ],
 "metadata": {
  "kernelspec": {
   "display_name": "Python 3",
   "language": "python",
   "name": "python3"
  },
  "language_info": {
   "codemirror_mode": {
    "name": "ipython",
    "version": 3
   },
   "file_extension": ".py",
   "mimetype": "text/x-python",
   "name": "python",
   "nbconvert_exporter": "python",
   "pygments_lexer": "ipython3",
   "version": "3.8.5"
  }
 },
 "nbformat": 4,
 "nbformat_minor": 4
}
